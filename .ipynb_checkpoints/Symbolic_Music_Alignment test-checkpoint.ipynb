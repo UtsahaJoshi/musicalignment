{
 "cells": [
  {
   "cell_type": "markdown",
   "id": "c04b411e",
   "metadata": {},
   "source": [
    "# Symbolic Music Alignment"
   ]
  },
  {
   "cell_type": "markdown",
   "id": "64631779",
   "metadata": {},
   "source": [
    "## Music Alignment\n",
    "\n",
    "Music alignment is a process of matching a note in a musical performance to the corresponding note in the score. It can be efficiently done using tools which have a note alignment algorithm and the user is equipped with an interface to visually observe and interact with the alignment result."
   ]
  },
  {
   "cell_type": "markdown",
   "id": "bb6fe7b7",
   "metadata": {},
   "source": [
    "## Music Representation\n",
    "\n",
    "Symbolic music representation contains musical notations to model/ represent a music score in a visual manner. It also contains valuable audio information (like note onsets, pitch, duration, etc) related to the particular musical piece."
   ]
  },
  {
   "cell_type": "code",
   "execution_count": 76,
   "id": "8c70f756",
   "metadata": {},
   "outputs": [],
   "source": [
    "# Import things that you need\n",
    "import numpy as np\n",
    "import partitura as pt\n",
    "import matplotlib.pyplot as plt\n",
    "from Baseline_Alignment import *"
   ]
  },
  {
   "cell_type": "markdown",
   "id": "36cc0f43",
   "metadata": {},
   "source": [
    "## Feature Representations\n",
    "\n",
    "* Which features did you use?\n",
    "* Which elements of the music do they capture?\n",
    "* Was there any pre-processing of the features?\n",
    "* Anything that you think relevant.\n",
    "* Make sure to include plots and visualizations!\n",
    "\n"
   ]
  },
  {
   "cell_type": "code",
   "execution_count": 79,
   "id": "63cf2ef0",
   "metadata": {},
   "outputs": [
    {
     "name": "stdout",
     "output_type": "stream",
     "text": [
      "1/88 Chopin_op10_no3_p01: F-score:0.80 Precision:0.76 Recall:0.84\n",
      "2/88 Chopin_op10_no3_p02: F-score:0.78 Precision:0.75 Recall:0.82\n",
      "3/88 Chopin_op10_no3_p03: F-score:0.79 Precision:0.75 Recall:0.84\n",
      "4/88 Chopin_op10_no3_p04: F-score:0.81 Precision:0.78 Recall:0.85\n",
      "5/88 Chopin_op10_no3_p05: F-score:0.76 Precision:0.72 Recall:0.81\n",
      "6/88 Chopin_op10_no3_p06: F-score:0.77 Precision:0.73 Recall:0.82\n",
      "7/88 Chopin_op10_no3_p07: F-score:0.78 Precision:0.74 Recall:0.83\n",
      "8/88 Chopin_op10_no3_p08: F-score:0.80 Precision:0.76 Recall:0.84\n",
      "9/88 Chopin_op10_no3_p09: F-score:0.78 Precision:0.74 Recall:0.83\n",
      "10/88 Chopin_op10_no3_p10: F-score:0.78 Precision:0.74 Recall:0.83\n",
      "11/88 Chopin_op10_no3_p11: F-score:0.76 Precision:0.72 Recall:0.81\n",
      "12/88 Chopin_op10_no3_p12: F-score:0.77 Precision:0.72 Recall:0.83\n",
      "13/88 Chopin_op10_no3_p13: F-score:0.79 Precision:0.75 Recall:0.83\n",
      "14/88 Chopin_op10_no3_p14: F-score:0.76 Precision:0.71 Recall:0.80\n",
      "15/88 Chopin_op10_no3_p15: F-score:0.78 Precision:0.74 Recall:0.82\n",
      "16/88 Chopin_op10_no3_p16: F-score:0.78 Precision:0.74 Recall:0.82\n",
      "17/88 Chopin_op10_no3_p17: F-score:0.75 Precision:0.71 Recall:0.80\n",
      "18/88 Chopin_op10_no3_p18: F-score:0.76 Precision:0.72 Recall:0.81\n",
      "19/88 Chopin_op10_no3_p19: F-score:0.77 Precision:0.72 Recall:0.81\n",
      "20/88 Chopin_op10_no3_p20: F-score:0.75 Precision:0.71 Recall:0.80\n",
      "21/88 Chopin_op10_no3_p21: F-score:0.77 Precision:0.73 Recall:0.82\n",
      "22/88 Chopin_op10_no3_p22: F-score:0.76 Precision:0.71 Recall:0.81\n",
      "23/88 Chopin_op38_p01: F-score:0.54 Precision:0.49 Recall:0.59\n",
      "24/88 Chopin_op38_p02: F-score:0.52 Precision:0.47 Recall:0.57\n",
      "25/88 Chopin_op38_p03: F-score:0.52 Precision:0.47 Recall:0.58\n",
      "26/88 Chopin_op38_p04: F-score:0.55 Precision:0.50 Recall:0.61\n",
      "27/88 Chopin_op38_p05: F-score:0.58 Precision:0.53 Recall:0.64\n",
      "28/88 Chopin_op38_p06: F-score:0.50 Precision:0.45 Recall:0.57\n",
      "29/88 Chopin_op38_p07: F-score:0.51 Precision:0.46 Recall:0.57\n",
      "30/88 Chopin_op38_p08: F-score:0.54 Precision:0.49 Recall:0.60\n",
      "31/88 Chopin_op38_p09: F-score:0.56 Precision:0.52 Recall:0.62\n",
      "32/88 Chopin_op38_p10: F-score:0.54 Precision:0.49 Recall:0.60\n",
      "33/88 Chopin_op38_p11: F-score:0.48 Precision:0.43 Recall:0.54\n",
      "34/88 Chopin_op38_p12: F-score:0.53 Precision:0.48 Recall:0.59\n",
      "35/88 Chopin_op38_p13: F-score:0.48 Precision:0.43 Recall:0.54\n",
      "36/88 Chopin_op38_p14: F-score:0.54 Precision:0.49 Recall:0.60\n",
      "37/88 Chopin_op38_p15: F-score:0.48 Precision:0.43 Recall:0.54\n",
      "38/88 Chopin_op38_p16: F-score:0.56 Precision:0.51 Recall:0.61\n",
      "39/88 Chopin_op38_p17: F-score:0.48 Precision:0.43 Recall:0.55\n",
      "40/88 Chopin_op38_p18: F-score:0.49 Precision:0.44 Recall:0.55\n",
      "41/88 Chopin_op38_p19: F-score:0.56 Precision:0.52 Recall:0.62\n",
      "42/88 Chopin_op38_p20: F-score:0.55 Precision:0.50 Recall:0.61\n",
      "43/88 Chopin_op38_p21: F-score:0.53 Precision:0.49 Recall:0.59\n",
      "44/88 Chopin_op38_p22: F-score:0.56 Precision:0.51 Recall:0.61\n",
      "45/88 Mozart_K331_1st-mov_p01: F-score:0.65 Precision:0.60 Recall:0.71\n",
      "46/88 Mozart_K331_1st-mov_p02: F-score:0.66 Precision:0.61 Recall:0.71\n",
      "47/88 Mozart_K331_1st-mov_p03: F-score:0.67 Precision:0.62 Recall:0.72\n",
      "48/88 Mozart_K331_1st-mov_p04: F-score:0.68 Precision:0.64 Recall:0.73\n",
      "49/88 Mozart_K331_1st-mov_p05: F-score:0.61 Precision:0.56 Recall:0.67\n",
      "50/88 Mozart_K331_1st-mov_p06: F-score:0.64 Precision:0.59 Recall:0.69\n",
      "51/88 Mozart_K331_1st-mov_p07: F-score:0.64 Precision:0.59 Recall:0.69\n",
      "52/88 Mozart_K331_1st-mov_p08: F-score:0.68 Precision:0.64 Recall:0.73\n",
      "53/88 Mozart_K331_1st-mov_p09: F-score:0.43 Precision:0.38 Recall:0.50\n",
      "54/88 Mozart_K331_1st-mov_p10: F-score:0.65 Precision:0.60 Recall:0.70\n",
      "55/88 Mozart_K331_1st-mov_p11: F-score:0.69 Precision:0.65 Recall:0.74\n",
      "56/88 Mozart_K331_1st-mov_p12: F-score:0.69 Precision:0.65 Recall:0.74\n",
      "57/88 Mozart_K331_1st-mov_p13: F-score:0.66 Precision:0.62 Recall:0.71\n",
      "58/88 Mozart_K331_1st-mov_p14: F-score:0.68 Precision:0.64 Recall:0.73\n",
      "59/88 Mozart_K331_1st-mov_p15: F-score:0.68 Precision:0.63 Recall:0.72\n",
      "60/88 Mozart_K331_1st-mov_p16: F-score:0.62 Precision:0.56 Recall:0.68\n",
      "61/88 Mozart_K331_1st-mov_p17: F-score:0.66 Precision:0.62 Recall:0.71\n",
      "62/88 Mozart_K331_1st-mov_p18: F-score:0.44 Precision:0.40 Recall:0.51\n",
      "63/88 Mozart_K331_1st-mov_p19: F-score:0.73 Precision:0.69 Recall:0.78\n",
      "64/88 Mozart_K331_1st-mov_p20: F-score:0.73 Precision:0.68 Recall:0.77\n",
      "65/88 Mozart_K331_1st-mov_p21: F-score:0.73 Precision:0.69 Recall:0.77\n",
      "66/88 Mozart_K331_1st-mov_p22: F-score:0.66 Precision:0.61 Recall:0.70\n",
      "67/88 Schubert_D783_no15_p01: F-score:0.53 Precision:0.47 Recall:0.61\n",
      "68/88 Schubert_D783_no15_p02: F-score:0.49 Precision:0.44 Recall:0.57\n",
      "69/88 Schubert_D783_no15_p03: F-score:0.52 Precision:0.46 Recall:0.59\n",
      "70/88 Schubert_D783_no15_p04: F-score:0.52 Precision:0.46 Recall:0.60\n",
      "71/88 Schubert_D783_no15_p05: F-score:0.49 Precision:0.43 Recall:0.57\n",
      "72/88 Schubert_D783_no15_p06: F-score:0.54 Precision:0.48 Recall:0.61\n",
      "73/88 Schubert_D783_no15_p07: F-score:0.48 Precision:0.43 Recall:0.55\n",
      "74/88 Schubert_D783_no15_p08: F-score:0.52 Precision:0.46 Recall:0.60\n",
      "75/88 Schubert_D783_no15_p09: F-score:0.50 Precision:0.44 Recall:0.57\n",
      "76/88 Schubert_D783_no15_p10: F-score:0.50 Precision:0.44 Recall:0.58\n",
      "77/88 Schubert_D783_no15_p11: F-score:0.48 Precision:0.42 Recall:0.54\n",
      "78/88 Schubert_D783_no15_p12: F-score:0.49 Precision:0.43 Recall:0.57\n",
      "79/88 Schubert_D783_no15_p13: F-score:0.49 Precision:0.43 Recall:0.56\n",
      "80/88 Schubert_D783_no15_p14: F-score:0.50 Precision:0.44 Recall:0.57\n",
      "81/88 Schubert_D783_no15_p15: F-score:0.49 Precision:0.43 Recall:0.57\n",
      "82/88 Schubert_D783_no15_p16: F-score:0.55 Precision:0.48 Recall:0.63\n",
      "83/88 Schubert_D783_no15_p17: F-score:0.50 Precision:0.44 Recall:0.58\n",
      "84/88 Schubert_D783_no15_p18: F-score:0.51 Precision:0.45 Recall:0.58\n",
      "85/88 Schubert_D783_no15_p19: F-score:0.55 Precision:0.49 Recall:0.62\n",
      "86/88 Schubert_D783_no15_p20: F-score:0.49 Precision:0.43 Recall:0.57\n",
      "87/88 Schubert_D783_no15_p21: F-score:0.51 Precision:0.45 Recall:0.58\n",
      "88/88 Schubert_D783_no15_p22: F-score:0.52 Precision:0.46 Recall:0.59\n",
      "\n",
      "\n",
      "Average Performance over the dataset\n",
      "F-score:0.61\tPrecision:0.57\t Recall:0.67\n"
     ]
    },
    {
     "data": {
      "image/png": "[encoded data removed]",
      "text/plain": [
       "<Figure size 640x480 with 1 Axes>"
      ]
     },
     "metadata": {},
     "output_type": "display_data"
    }
   ],
   "source": [
    "# 1. Load the data\n",
    "dataset = load_dataset('../../training set')\n",
    "alignments = []\n",
    "evaluation = []\n",
    "piece_names = []\n",
    "for i, (piece_name, pdata) in enumerate(dataset.items()):\n",
    "    piece_names.append(piece_name)\n",
    "    performance_note_array, score_note_array, gt_alignment = pdata\n",
    "\n",
    "    score_features, score_idx = compute_pianoroll_score(\n",
    "        score_note_array=score_note_array,\n",
    "        time_div=\"auto\",\n",
    "    )\n",
    "\n",
    "    performance_features, performance_idx = compute_pianoroll_performance(\n",
    "        performance_note_array=performance_note_array,\n",
    "        time_div=\"auto\",\n",
    "    )\n",
    "    # 3. Compute the alignment (Adapt this part as needed!)\n",
    "    warping_path, _ = fast_dynamic_time_warping(\n",
    "        X=score_features,\n",
    "        Y=performance_features,\n",
    "        metric=\"euclidean\",\n",
    "    )\n",
    "\n",
    "    predicted_alignment = greedy_note_alignment(\n",
    "        warping_path=warping_path,\n",
    "        idx1=score_idx,\n",
    "        note_array1=score_note_array,\n",
    "        idx2=performance_idx,\n",
    "        note_array2=performance_note_array,\n",
    "    )\n",
    "\n",
    "    # Compute evaluation (Do not change this)\n",
    "    alignments.append(predicted_alignment)\n",
    "\n",
    "    piece_eval = compare_alignments(\n",
    "        prediction=predicted_alignment,\n",
    "        ground_truth=gt_alignment,\n",
    "    )\n",
    "\n",
    "    print(\n",
    "        f\"{i+1}/{len(dataset)} {piece_name}: \"\n",
    "        f\"F-score:{piece_eval[2]:.2f} \"\n",
    "        f\"Precision:{piece_eval[0]:.2f} \"\n",
    "        f\"Recall:{piece_eval[1]:.2f}\"\n",
    "    )\n",
    "\n",
    "    evaluation.append(piece_eval)\n",
    "\n",
    "# compute mean evaluation\n",
    "mean_eval = np.mean(evaluation, 0)\n",
    "\n",
    "print(\n",
    "    \"\\n\\nAverage Performance over the dataset\\n\"\n",
    "    f\"F-score:{mean_eval[2]:.2f}\\t\"\n",
    "    f\"Precision:{mean_eval[0]:.2f}\\t\",\n",
    "    f\"Recall:{mean_eval[1]:.2f}\",\n",
    ")\n"
   ]
  },
  {
   "cell_type": "code",
   "execution_count": 78,
   "id": "2ee15484",
   "metadata": {},
   "outputs": [],
   "source": [
    "outfile = os.path.join('', \"TeamMilesDavies_challenge.npz\")\n",
    "export_to_challenge(\n",
    "            alignments=alignments,\n",
    "            piece_names=piece_names,\n",
    "            out=outfile,\n",
    "        )"
   ]
  },
  {
   "cell_type": "code",
   "execution_count": 45,
   "id": "0e5be572",
   "metadata": {},
   "outputs": [],
   "source": [
    "#visualizations\n"
   ]
  },
  {
   "cell_type": "markdown",
   "id": "ab8d8d3c",
   "metadata": {},
   "source": [
    "### Alignment Methods\n",
    "\n",
    "* Which Method(s) did you use? (e.g., Dynamic Time Warping)\n",
    "* What is this method supposed to do (conceptually, you don't need to go into an in-depth description of the methods)\n",
    "* What were the hyper-parameters/settings of the method? (e.g., choice of local distance measure for DTW)\n",
    "* Is there any lesson you learned during the challenge\n",
    "                                         "
   ]
  },
  {
   "cell_type": "markdown",
   "id": "c9b2ac9e",
   "metadata": {},
   "source": [
    "## Evaluation\n",
    "\n",
    "* Describe the evaluation that you conducted designing the submissions.\n",
    "* Which things worked and which things didn't?"
   ]
  },
  {
   "cell_type": "markdown",
   "id": "e74fea82",
   "metadata": {},
   "source": [
    "## Conclusions\n",
    "\n",
    "* Is there anything interesting insight that you can conclude from the challenge? "
   ]
  },
  {
   "cell_type": "markdown",
   "id": "8650c3a0",
   "metadata": {},
   "source": [
    "## References\n",
    "\n",
    "* Reference the papers used for this work!\n",
    "https://mpeg.chiariglione.org/standards/mpeg-4/symbolic-music-representation"
   ]
  },
  {
   "cell_type": "code",
   "execution_count": null,
   "id": "527f5e2b",
   "metadata": {},
   "outputs": [],
   "source": []
  }
 ],
 "metadata": {
  "kernelspec": {
   "display_name": "Python 3 (ipykernel)",
   "language": "python",
   "name": "python3"
  },
  "language_info": {
   "codemirror_mode": {
    "name": "ipython",
    "version": 3
   },
   "file_extension": ".py",
   "mimetype": "text/x-python",
   "name": "python",
   "nbconvert_exporter": "python",
   "pygments_lexer": "ipython3",
   "version": "3.9.9"
  }
 },
 "nbformat": 4,
 "nbformat_minor": 5
}
